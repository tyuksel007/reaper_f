{
 "cells": [
  {
   "cell_type": "code",
   "execution_count": 1,
   "metadata": {
    "dotnet_interactive": {
     "language": "fsharp"
    },
    "polyglot_notebook": {
     "kernelName": "fsharp"
    },
    "vscode": {
     "languageId": "polyglot-notebook"
    }
   },
   "outputs": [],
   "source": [
    "type SignalType = \n",
    "    | Buy\n",
    "    | Sell\n",
    "    | SignalUndefined\n",
    "\n",
    "type PivotType = \n",
    "    | High\n",
    "    | Low\n",
    "    | PivotUndefined\n",
    "\n",
    "type Candle = {\n",
    "    Symbol: string\n",
    "    Time: DateTime\n",
    "    Close: decimal\n",
    "    Open: decimal\n",
    "    High: decimal\n",
    "    Low: decimal\n",
    "    Volume: decimal\n",
    "}\n",
    "\n",
    "type Stats = {\n",
    "    Symbol: string\n",
    "    Time: DateTime\n",
    "    PivotType: string\n",
    "    PivotPrice: decimal\n",
    "    ChannelLow: decimal\n",
    "    ChannelHigh: decimal\n",
    "    BreakoutSignal: string\n",
    "    TradeCapital: decimal\n",
    "}\n",
    "\n",
    "type CandleWithStats = {\n",
    "    Candle: Candle\n",
    "    Stats: Stats\n",
    "}"
   ]
  },
  {
   "cell_type": "code",
   "execution_count": 2,
   "metadata": {
    "dotnet_interactive": {
     "language": "fsharp"
    },
    "polyglot_notebook": {
     "kernelName": "fsharp"
    },
    "vscode": {
     "languageId": "polyglot-notebook"
    }
   },
   "outputs": [
    {
     "data": {
      "text/html": [
       "<div><div></div><div></div><div><strong>Installed Packages</strong><ul><li><span>Dapper, 2.1.28</span></li><li><span>MathNet.Numerics, 5.0.0</span></li><li><span>System.Data.SQLite, 1.0.118</span></li><li><span>XPlot.Plotly, 4.0.6</span></li></ul></div></div>"
      ]
     },
     "metadata": {},
     "output_type": "display_data"
    },
    {
     "data": {
      "text/html": [
       "<details open=\"open\" class=\"dni-treeview\"><summary><span class=\"dni-code-hint\"><code>{ Symbol = &quot;lunausdtm&quot;\\n  Time = 2/26/2024 12:00:00 AM\\n  PivotType = &quot;High&quot;\\n  PivotPrice = 0.7028M\\n  ChannelLow = -732.260660705048M\\n  ChannelHigh = -1254.95809799662M\\n  BreakoutSignal = &quot;SignalUndefined&quot;\\n  TradeCapital = 100M }</code></span></summary><div><table><thead><tr></tr></thead><tbody><tr><td>Symbol</td><td><div class=\"dni-plaintext\"><pre>lunausdtm</pre></div></td></tr><tr><td>Time</td><td><span>2024-02-26 00:00:00Z</span></td></tr><tr><td>PivotType</td><td><div class=\"dni-plaintext\"><pre>High</pre></div></td></tr><tr><td>PivotPrice</td><td><div class=\"dni-plaintext\"><pre>0.7028</pre></div></td></tr><tr><td>ChannelLow</td><td><div class=\"dni-plaintext\"><pre>-732.260660705048</pre></div></td></tr><tr><td>ChannelHigh</td><td><div class=\"dni-plaintext\"><pre>-1254.95809799662</pre></div></td></tr><tr><td>BreakoutSignal</td><td><div class=\"dni-plaintext\"><pre>SignalUndefined</pre></div></td></tr><tr><td>TradeCapital</td><td><div class=\"dni-plaintext\"><pre>100</pre></div></td></tr></tbody></table></div></details><style>\r\n",
       ".dni-code-hint {\r\n",
       "    font-style: italic;\r\n",
       "    overflow: hidden;\r\n",
       "    white-space: nowrap;\r\n",
       "}\r\n",
       ".dni-treeview {\r\n",
       "    white-space: nowrap;\r\n",
       "}\r\n",
       ".dni-treeview td {\r\n",
       "    vertical-align: top;\r\n",
       "    text-align: start;\r\n",
       "}\r\n",
       "details.dni-treeview {\r\n",
       "    padding-left: 1em;\r\n",
       "}\r\n",
       "table td {\r\n",
       "    text-align: start;\r\n",
       "}\r\n",
       "table tr { \r\n",
       "    vertical-align: top; \r\n",
       "    margin: 0em 0px;\r\n",
       "}\r\n",
       "table tr td pre \r\n",
       "{ \r\n",
       "    vertical-align: top !important; \r\n",
       "    margin: 0em 0px !important;\r\n",
       "} \r\n",
       "table th {\r\n",
       "    text-align: start;\r\n",
       "}\r\n",
       "</style>"
      ]
     },
     "metadata": {},
     "output_type": "display_data"
    }
   ],
   "source": [
    "#r \"nuget: Dapper, 2.1.28\"\n",
    "#r \"nuget: MathNet.Numerics, 5.0.0\"\n",
    "#r \"nuget: System.Data.SQLite, 1.0.118\"\n",
    "#r \"nuget: XPlot.Plotly, 4.0.6\"\n",
    "\n",
    "open XPlot.Plotly\n",
    "open System\n",
    "open System.Text.Json\n",
    "open System.Data.SQLite\n",
    "open Dapper\n",
    "\n",
    "let databaseFilename =  \"c:/users/tyueksel/Desktop/f#/reaper_f/src/Analytics/Database/analytics.sqlite\"\n",
    "let connectionStringFile = sprintf \"Data Source=%s;Version=3;\" databaseFilename  \n",
    "\n",
    "let loadData () =\n",
    "\n",
    "    use connection = new SQLiteConnection(connectionStringFile)\n",
    "    connection.Open()\n",
    "\n",
    "    let symbolsQuery = \"SELECT * FROM symbols\"\n",
    "    let broadeningStatsQuery = \"SELECT * FROM broadening_bottoms\"\n",
    "\n",
    "    let symbols = connection.Query<Candle>(symbolsQuery)\n",
    "    let broadeningStats = connection.Query<Stats>(broadeningStatsQuery)\n",
    "\n",
    "    let candleWithStats = \n",
    "        symbols\n",
    "        |> Seq.map (fun s -> \n",
    "            let stats = broadeningStats |> Seq.find (fun b -> b.Symbol = s.Symbol && b.Time = s.Time)\n",
    "            { Candle = s; Stats = stats }\n",
    "        )\n",
    "    candleWithStats\n",
    "\n",
    "let selectSymbols () = \n",
    "    use connection = new SQLiteConnection(connectionStringFile)\n",
    "    connection.Open()\n",
    "    let symbolsQuery = \"SELECT * FROM broadening_bottoms\" \n",
    "    let candles = connection.Query<Stats>(symbolsQuery)\n",
    "    candles\n",
    "\n",
    "selectSymbols () |> Seq.head\n",
    "\n",
    "    "
   ]
  },
  {
   "cell_type": "code",
   "execution_count": 3,
   "metadata": {
    "dotnet_interactive": {
     "language": "fsharp"
    },
    "polyglot_notebook": {
     "kernelName": "fsharp"
    },
    "vscode": {
     "languageId": "polyglot-notebook"
    }
   },
   "outputs": [],
   "source": [
    "let pivotScatter(candles: CandleWithStats array) (pivotType: PivotType) : Trace = \n",
    "    let pivots = \n",
    "        candles\n",
    "        |> Array.filter (fun candle -> candle.Stats.PivotType = pivotType.ToString())\n",
    "\n",
    "    let times = \n",
    "        pivots\n",
    "        |> Array.map (fun candle -> candle.Candle.Time)\n",
    "\n",
    "    let prices = \n",
    "        pivots\n",
    "        |> Array.map (fun candle -> candle.Stats.PivotPrice)\n",
    "\n",
    "    Scatter(x = times, y = prices, mode = \"markers\", name = $\"Pivot {pivotType}\")\n",
    "\n",
    "    "
   ]
  },
  {
   "cell_type": "code",
   "execution_count": 4,
   "metadata": {
    "dotnet_interactive": {
     "language": "fsharp"
    },
    "polyglot_notebook": {
     "kernelName": "fsharp"
    },
    "vscode": {
     "languageId": "polyglot-notebook"
    }
   },
   "outputs": [],
   "source": [
    "let candleStickTrace (candles: CandleWithStats array) : Trace =\n",
    "    Candlestick( \n",
    "        x = (candles |> Array.map (fun r -> r.Candle.Time)), \n",
    "        ``open`` = (candles |> Array.map (fun r -> r.Candle.Open)), \n",
    "        high = (candles |> Array.map (fun r -> r.Candle.High)), \n",
    "        low = (candles |> Array.map (fun r -> r.Candle.Low)), \n",
    "        close = (candles |> Array.map (fun r -> r.Candle.Close)), \n",
    "        name = \"Candlestick\")\n",
    "\n"
   ]
  },
  {
   "cell_type": "code",
   "execution_count": 5,
   "metadata": {
    "dotnet_interactive": {
     "language": "fsharp"
    },
    "polyglot_notebook": {
     "kernelName": "fsharp"
    },
    "vscode": {
     "languageId": "polyglot-notebook"
    }
   },
   "outputs": [],
   "source": [
    "let channelLowTrace (candles: CandleWithStats array) : Trace =\n",
    "    let channelLow = Scatter(x = (candles |> Array.map (fun r -> r.Candle.Time)),\n",
    "        y = (candles |> Array.map (fun r -> r.Stats.ChannelLow)),\n",
    "        mode = \"lines\",\n",
    "        name = \"Channel Low\")\n",
    "    channelLow\n",
    "\n",
    "\n",
    "let channelHighTrace (candles: CandleWithStats array) : Trace =\n",
    "    let channelHigh = Scatter(x = (candles |> Array.map (fun r -> r.Candle.Time)),\n",
    "        y = (candles |> Array.map (fun r -> r.Stats.ChannelHigh)),\n",
    "        mode = \"lines\",\n",
    "        name = \"Channel High\")\n",
    "    channelHigh"
   ]
  },
  {
   "cell_type": "code",
   "execution_count": 6,
   "metadata": {
    "dotnet_interactive": {
     "language": "fsharp"
    },
    "polyglot_notebook": {
     "kernelName": "fsharp"
    },
    "vscode": {
     "languageId": "polyglot-notebook"
    }
   },
   "outputs": [],
   "source": [
    "let breakoutActionTrace (candles: CandleWithStats array) : Trace =\n",
    "    let breakoutActions = \n",
    "        candles\n",
    "        |> Array.filter (fun candle -> candle.Stats.BreakoutSignal <> SignalUndefined.ToString())\n",
    "\n",
    "    let times = \n",
    "        breakoutActions\n",
    "        |> Array.map (fun candle -> candle.Candle.Time)\n",
    "\n",
    "    let prices = \n",
    "        breakoutActions\n",
    "        |> Array.map (fun candle -> candle.Candle.Close)\n",
    "\n",
    "    Scatter(x = times, y = prices, mode = \"markers\", name = \"Breakout Actions\")"
   ]
  },
  {
   "cell_type": "code",
   "execution_count": 7,
   "metadata": {
    "dotnet_interactive": {
     "language": "fsharp"
    },
    "polyglot_notebook": {
     "kernelName": "fsharp"
    },
    "vscode": {
     "languageId": "polyglot-notebook"
    }
   },
   "outputs": [
    {
     "ename": "Error",
     "evalue": "System.Collections.Generic.KeyNotFoundException: An index satisfying the predicate was not found in the collection.\r\n   at Microsoft.FSharp.Collections.SeqModule.Find[T](FSharpFunc`2 predicate, IEnumerable`1 source) in D:\\a\\_work\\1\\s\\src\\FSharp.Core\\seq.fs:line 840\r\n   at FSI_0006.loadData@23.Invoke(Candle s)\r\n   at Microsoft.FSharp.Collections.Internal.IEnumerator.map@128.DoMoveNext(b& curr) in D:\\a\\_work\\1\\s\\src\\FSharp.Core\\seq.fs:line 131\r\n   at Microsoft.FSharp.Collections.Internal.IEnumerator.MapEnumerator`1.System.Collections.IEnumerator.MoveNext() in D:\\a\\_work\\1\\s\\src\\FSharp.Core\\seq.fs:line 113\r\n   at Microsoft.FSharp.Collections.SeqModule.toArray$cont@1028[T](IEnumerator`1 e, Unit unitVar) in D:\\a\\_work\\1\\s\\src\\FSharp.Core\\seq.fs:line 1032\r\n   at Microsoft.FSharp.Collections.SeqModule.ToArray[T](IEnumerable`1 source) in D:\\a\\_work\\1\\s\\src\\FSharp.Core\\seq.fs:line 1027\r\n   at Microsoft.FSharp.Collections.ArrayModule.OfSeq[T](IEnumerable`1 source) in D:\\a\\_work\\1\\s\\src\\FSharp.Core\\array.fs:line 1543\r\n   at <StartupCode$FSI_0011>.$FSI_0011.main@()\r\n   at System.RuntimeMethodHandle.InvokeMethod(Object target, Void** arguments, Signature sig, Boolean isConstructor)\r\n   at System.Reflection.MethodBaseInvoker.InvokeWithNoArgs(Object obj, BindingFlags invokeAttr)",
     "output_type": "error",
     "traceback": [
      "System.Collections.Generic.KeyNotFoundException: An index satisfying the predicate was not found in the collection.\r\n",
      "   at Microsoft.FSharp.Collections.SeqModule.Find[T](FSharpFunc`2 predicate, IEnumerable`1 source) in D:\\a\\_work\\1\\s\\src\\FSharp.Core\\seq.fs:line 840\r\n",
      "   at FSI_0006.loadData@23.Invoke(Candle s)\r\n",
      "   at Microsoft.FSharp.Collections.Internal.IEnumerator.map@128.DoMoveNext(b& curr) in D:\\a\\_work\\1\\s\\src\\FSharp.Core\\seq.fs:line 131\r\n",
      "   at Microsoft.FSharp.Collections.Internal.IEnumerator.MapEnumerator`1.System.Collections.IEnumerator.MoveNext() in D:\\a\\_work\\1\\s\\src\\FSharp.Core\\seq.fs:line 113\r\n",
      "   at Microsoft.FSharp.Collections.SeqModule.toArray$cont@1028[T](IEnumerator`1 e, Unit unitVar) in D:\\a\\_work\\1\\s\\src\\FSharp.Core\\seq.fs:line 1032\r\n",
      "   at Microsoft.FSharp.Collections.SeqModule.ToArray[T](IEnumerable`1 source) in D:\\a\\_work\\1\\s\\src\\FSharp.Core\\seq.fs:line 1027\r\n",
      "   at Microsoft.FSharp.Collections.ArrayModule.OfSeq[T](IEnumerable`1 source) in D:\\a\\_work\\1\\s\\src\\FSharp.Core\\array.fs:line 1543\r\n",
      "   at <StartupCode$FSI_0011>.$FSI_0011.main@()\r\n",
      "   at System.RuntimeMethodHandle.InvokeMethod(Object target, Void** arguments, Signature sig, Boolean isConstructor)\r\n",
      "   at System.Reflection.MethodBaseInvoker.InvokeWithNoArgs(Object obj, BindingFlags invokeAttr)"
     ]
    }
   ],
   "source": [
    "\n",
    "let candlesWithStats = loadData() |> Array.ofSeq\n",
    "printf \"%A\" candlesWithStats\n",
    "\n",
    "let candleStickTrace = candleStickTrace candlesWithStats\n",
    "let breakoutActionTrace = breakoutActionTrace candlesWithStats\n",
    "let pivotHighScatters = pivotScatter candlesWithStats High \n",
    "let pivotLowScatters = pivotScatter candlesWithStats Low\n",
    "\n",
    "\n",
    "let candleChunks = \n",
    "    candlesWithStats\n",
    "    |> Array.splitInto 3\n",
    "\n",
    "\n",
    "let channelLowTraces = \n",
    "    candleChunks\n",
    "    |> Array.map (fun chunk -> channelLowTrace chunk)\n",
    "\n",
    "let channelHighTraces = \n",
    "    candleChunks\n",
    "    |> Array.map (fun chunk -> channelHighTrace chunk)\n",
    "\n",
    "let chart = Chart.Plot(\n",
    "    Array.concat [| \n",
    "        [|\n",
    "            candleStickTrace\n",
    "            breakoutActionTrace\n",
    "            pivotHighScatters\n",
    "            pivotLowScatters \n",
    "        |]\n",
    "        channelLowTraces\n",
    "        channelHighTraces\n",
    "    |])\n",
    "\n",
    "chart.WithLayout(Layout(title = \"Broadening Bottoms\",\n",
    "    xaxis = Xaxis(title = \"Time\"),\n",
    "    yaxis = Yaxis(title = \"Price\")))\n",
    "\n",
    "chart.Show()\n",
    "// sprintf \"%s\" (JsonSerializer.Serialize(candlesWithStats))"
   ]
  }
 ],
 "metadata": {
  "language_info": {
   "name": "csharp"
  }
 },
 "nbformat": 4,
 "nbformat_minor": 2
}
