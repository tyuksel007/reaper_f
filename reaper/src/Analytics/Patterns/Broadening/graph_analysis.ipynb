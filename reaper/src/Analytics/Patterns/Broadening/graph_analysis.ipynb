{
 "cells": [
  {
   "cell_type": "code",
   "execution_count": 1,
   "metadata": {
    "dotnet_interactive": {
     "language": "fsharp"
    },
    "polyglot_notebook": {
     "kernelName": "fsharp"
    },
    "vscode": {
     "languageId": "polyglot-notebook"
    }
   },
   "outputs": [],
   "source": [
    "type SignalType = \n",
    "    | Buy\n",
    "    | Sell\n",
    "    | SignalUndefined\n",
    "\n",
    "type PivotType = \n",
    "    | High\n",
    "    | Low\n",
    "    | PivotUndefined\n",
    "\n",
    "type Candle = {\n",
    "    Symbol: string\n",
    "    Time: DateTime\n",
    "    Close: decimal\n",
    "    Open: decimal\n",
    "    High: decimal\n",
    "    Low: decimal\n",
    "    Volume: decimal\n",
    "}\n",
    "\n",
    "type Stats = {\n",
    "    Symbol: string\n",
    "    Time: DateTime\n",
    "    PivotType: string\n",
    "    PivotPrice: decimal\n",
    "    ChannelLow: decimal\n",
    "    ChannelHigh: decimal\n",
    "    BreakoutSignal: string\n",
    "    TradeCapital: decimal\n",
    "}\n",
    "\n",
    "type CandleWithStats = {\n",
    "    Candle: Candle\n",
    "    Stats: Stats\n",
    "}"
   ]
  },
  {
   "cell_type": "code",
   "execution_count": 2,
   "metadata": {
    "dotnet_interactive": {
     "language": "fsharp"
    },
    "polyglot_notebook": {
     "kernelName": "fsharp"
    },
    "vscode": {
     "languageId": "polyglot-notebook"
    }
   },
   "outputs": [
    {
     "data": {
      "text/html": [
       "<div><div></div><div></div><div><strong>Installed Packages</strong><ul><li><span>Dapper, 2.1.28</span></li><li><span>MathNet.Numerics, 5.0.0</span></li><li><span>System.Data.SQLite, 1.0.118</span></li><li><span>XPlot.Plotly, 4.0.6</span></li></ul></div></div>"
      ]
     },
     "metadata": {},
     "output_type": "display_data"
    },
    {
     "ename": "Error",
     "evalue": "code = CantOpen (14), message = System.Data.SQLite.SQLiteException (0x87AF03F3): unable to open database file\r\n   at System.Data.SQLite.SQLite3.Open(String strFilename, String vfsName, SQLiteConnectionFlags connectionFlags, SQLiteOpenFlagsEnum openFlags, Int32 maxPoolSize, Boolean usePool)\r\n   at System.Data.SQLite.SQLiteConnection.Open()\r\n   at FSI_0006.selectSymbols()\r\n   at <StartupCode$FSI_0006>.$FSI_0006.main@()\r\n   at System.RuntimeMethodHandle.InvokeMethod(Object target, Void** arguments, Signature sig, Boolean isConstructor)\r\n   at System.Reflection.MethodBaseInvoker.InvokeWithNoArgs(Object obj, BindingFlags invokeAttr)",
     "output_type": "error",
     "traceback": [
      "code = CantOpen (14), message = System.Data.SQLite.SQLiteException (0x87AF03F3): unable to open database file\r\n",
      "   at System.Data.SQLite.SQLite3.Open(String strFilename, String vfsName, SQLiteConnectionFlags connectionFlags, SQLiteOpenFlagsEnum openFlags, Int32 maxPoolSize, Boolean usePool)\r\n",
      "   at System.Data.SQLite.SQLiteConnection.Open()\r\n",
      "   at FSI_0006.selectSymbols()\r\n",
      "   at <StartupCode$FSI_0006>.$FSI_0006.main@()\r\n",
      "   at System.RuntimeMethodHandle.InvokeMethod(Object target, Void** arguments, Signature sig, Boolean isConstructor)\r\n",
      "   at System.Reflection.MethodBaseInvoker.InvokeWithNoArgs(Object obj, BindingFlags invokeAttr)"
     ]
    }
   ],
   "source": [
    "#r \"nuget: Dapper, 2.1.28\"\n",
    "#r \"nuget: MathNet.Numerics, 5.0.0\"\n",
    "#r \"nuget: System.Data.SQLite, 1.0.118\"\n",
    "#r \"nuget: XPlot.Plotly, 4.0.6\"\n",
    "\n",
    "open XPlot.Plotly\n",
    "open System\n",
    "open System.Text.Json\n",
    "open System.Data.SQLite\n",
    "open Dapper\n",
    "\n",
    "let databaseFilename =  \"c:/users/tyueksel/Desktop/f#/reaper_f/src/Analytics/Database/analytics.sqlite\"\n",
    "let connectionStringFile = sprintf \"Data Source=%s;Version=3;\" databaseFilename  \n",
    "\n",
    "let loadData () =\n",
    "\n",
    "    use connection = new SQLiteConnection(connectionStringFile)\n",
    "    connection.Open()\n",
    "\n",
    "    let symbolsQuery = \"SELECT * FROM symbols\"\n",
    "    let broadeningStatsQuery = \"SELECT * FROM broadening_bottoms\"\n",
    "\n",
    "    let symbols = connection.Query<Candle>(symbolsQuery)\n",
    "    let broadeningStats = connection.Query<Stats>(broadeningStatsQuery)\n",
    "\n",
    "    let candleWithStats = \n",
    "        symbols\n",
    "        |> Seq.map (fun s -> \n",
    "            let stats = broadeningStats |> Seq.find (fun b -> b.Symbol = s.Symbol && b.Time = s.Time)\n",
    "            { Candle = s; Stats = stats }\n",
    "        )\n",
    "    candleWithStats\n",
    "\n",
    "let selectSymbols () = \n",
    "    use connection = new SQLiteConnection(connectionStringFile)\n",
    "    connection.Open()\n",
    "    let symbolsQuery = \"SELECT * FROM broadening_bottoms\" \n",
    "    let candles = connection.Query<Stats>(symbolsQuery)\n",
    "    candles\n",
    "\n",
    "selectSymbols () |> Seq.head\n",
    "\n",
    "    "
   ]
  },
  {
   "cell_type": "code",
   "execution_count": null,
   "metadata": {
    "dotnet_interactive": {
     "language": "fsharp"
    },
    "polyglot_notebook": {
     "kernelName": "fsharp"
    },
    "vscode": {
     "languageId": "polyglot-notebook"
    }
   },
   "outputs": [],
   "source": [
    "let pivotScatter(candles: CandleWithStats array) (pivotType: PivotType) : Trace = \n",
    "    let pivots = \n",
    "        candles\n",
    "        |> Array.filter (fun candle -> candle.Stats.PivotType = pivotType.ToString())\n",
    "\n",
    "    let times = \n",
    "        pivots\n",
    "        |> Array.map (fun candle -> candle.Candle.Time)\n",
    "\n",
    "    let prices = \n",
    "        pivots\n",
    "        |> Array.map (fun candle -> candle.Stats.PivotPrice)\n",
    "\n",
    "    Scatter(x = times, y = prices, mode = \"markers\", name = $\"Pivot {pivotType}\")\n",
    "\n",
    "    "
   ]
  },
  {
   "cell_type": "code",
   "execution_count": null,
   "metadata": {
    "dotnet_interactive": {
     "language": "fsharp"
    },
    "polyglot_notebook": {
     "kernelName": "fsharp"
    },
    "vscode": {
     "languageId": "polyglot-notebook"
    }
   },
   "outputs": [],
   "source": [
    "let candleStickTrace (candles: CandleWithStats array) : Trace =\n",
    "    Candlestick( \n",
    "        x = (candles |> Array.map (fun r -> r.Candle.Time)), \n",
    "        ``open`` = (candles |> Array.map (fun r -> r.Candle.Open)), \n",
    "        high = (candles |> Array.map (fun r -> r.Candle.High)), \n",
    "        low = (candles |> Array.map (fun r -> r.Candle.Low)), \n",
    "        close = (candles |> Array.map (fun r -> r.Candle.Close)), \n",
    "        name = \"Candlestick\")\n",
    "\n"
   ]
  },
  {
   "cell_type": "code",
   "execution_count": null,
   "metadata": {
    "dotnet_interactive": {
     "language": "fsharp"
    },
    "polyglot_notebook": {
     "kernelName": "fsharp"
    },
    "vscode": {
     "languageId": "polyglot-notebook"
    }
   },
   "outputs": [],
   "source": [
    "let channelLowTrace (candles: CandleWithStats array) : Trace =\n",
    "    let channelLow = Scatter(x = (candles |> Array.map (fun r -> r.Candle.Time)),\n",
    "        y = (candles |> Array.map (fun r -> r.Stats.ChannelLow)),\n",
    "        mode = \"lines\",\n",
    "        name = \"Channel Low\")\n",
    "    channelLow\n",
    "\n",
    "\n",
    "let channelHighTrace (candles: CandleWithStats array) : Trace =\n",
    "    let channelHigh = Scatter(x = (candles |> Array.map (fun r -> r.Candle.Time)),\n",
    "        y = (candles |> Array.map (fun r -> r.Stats.ChannelHigh)),\n",
    "        mode = \"lines\",\n",
    "        name = \"Channel High\")\n",
    "    channelHigh"
   ]
  },
  {
   "cell_type": "code",
   "execution_count": null,
   "metadata": {
    "dotnet_interactive": {
     "language": "fsharp"
    },
    "polyglot_notebook": {
     "kernelName": "fsharp"
    },
    "vscode": {
     "languageId": "polyglot-notebook"
    }
   },
   "outputs": [],
   "source": [
    "let breakoutActionTrace (candles: CandleWithStats array) : Trace =\n",
    "    let breakoutActions = \n",
    "        candles\n",
    "        |> Array.filter (fun candle -> candle.Stats.BreakoutSignal <> SignalUndefined.ToString())\n",
    "\n",
    "    let times = \n",
    "        breakoutActions\n",
    "        |> Array.map (fun candle -> candle.Candle.Time)\n",
    "\n",
    "    let prices = \n",
    "        breakoutActions\n",
    "        |> Array.map (fun candle -> candle.Candle.Close)\n",
    "\n",
    "    Scatter(x = times, y = prices, mode = \"markers\", name = \"Breakout Actions\")"
   ]
  },
  {
   "cell_type": "code",
   "execution_count": null,
   "metadata": {
    "dotnet_interactive": {
     "language": "fsharp"
    },
    "polyglot_notebook": {
     "kernelName": "fsharp"
    },
    "vscode": {
     "languageId": "polyglot-notebook"
    }
   },
   "outputs": [],
   "source": [
    "\n",
    "let candlesWithStats = loadData() |> Array.ofSeq\n",
    "printf \"%A\" candlesWithStats\n",
    "\n",
    "let candleStickTrace = candleStickTrace candlesWithStats\n",
    "let breakoutActionTrace = breakoutActionTrace candlesWithStats\n",
    "let pivotHighScatters = pivotScatter candlesWithStats High \n",
    "let pivotLowScatters = pivotScatter candlesWithStats Low\n",
    "\n",
    "\n",
    "let candleChunks = \n",
    "    candlesWithStats\n",
    "    |> Array.splitInto 3\n",
    "\n",
    "\n",
    "let channelLowTraces = \n",
    "    candleChunks\n",
    "    |> Array.map (fun chunk -> channelLowTrace chunk)\n",
    "\n",
    "let channelHighTraces = \n",
    "    candleChunks\n",
    "    |> Array.map (fun chunk -> channelHighTrace chunk)\n",
    "\n",
    "let chart = Chart.Plot(\n",
    "    Array.concat [| \n",
    "        [|\n",
    "            candleStickTrace\n",
    "            breakoutActionTrace\n",
    "            pivotHighScatters\n",
    "            pivotLowScatters \n",
    "        |]\n",
    "        channelLowTraces\n",
    "        channelHighTraces\n",
    "    |])\n",
    "\n",
    "chart.WithLayout(Layout(title = \"Broadening Bottoms\",\n",
    "    xaxis = Xaxis(title = \"Time\"),\n",
    "    yaxis = Yaxis(title = \"Price\")))\n",
    "\n",
    "chart.Show()\n",
    "// sprintf \"%s\" (JsonSerializer.Serialize(candlesWithStats))"
   ]
  }
 ],
 "metadata": {
  "language_info": {
   "name": "csharp"
  }
 },
 "nbformat": 4,
 "nbformat_minor": 2
}
