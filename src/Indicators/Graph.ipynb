{
 "cells": [
  {
   "cell_type": "code",
   "execution_count": 103,
   "metadata": {
    "dotnet_interactive": {
     "language": "fsharp"
    },
    "polyglot_notebook": {
     "kernelName": "fsharp"
    },
    "vscode": {
     "languageId": "polyglot-notebook"
    }
   },
   "outputs": [
    {
     "data": {
      "text/html": [
       "<div><div></div><div></div><div><strong>Installed Packages</strong><ul><li><span>XPlot.Plotly, 4.0.6</span></li></ul></div></div>"
      ]
     },
     "metadata": {},
     "output_type": "display_data"
    }
   ],
   "source": [
    "#r \"nuget: XPlot.Plotly, 4.0.6\"\n",
    "\n",
    "open XPlot.Plotly\n",
    "open System"
   ]
  },
  {
   "cell_type": "code",
   "execution_count": 104,
   "metadata": {
    "dotnet_interactive": {
     "language": "fsharp"
    },
    "polyglot_notebook": {
     "kernelName": "fsharp"
    },
    "vscode": {
     "languageId": "polyglot-notebook"
    }
   },
   "outputs": [],
   "source": [
    "\n",
    "type CandleData = {\n",
    "    Date: DateTime\n",
    "    Open: float\n",
    "    Close: float\n",
    "    High: float\n",
    "    Low: float\n",
    "}\n",
    "\n",
    "type TilsonData = {\n",
    "    Candle: CandleData\n",
    "    TilsonValue: float\n",
    "}\n",
    "\n",
    "type BollingerData = {\n",
    "    Candle: CandleData\n",
    "    UpperBand: float\n",
    "    LowerBand: float\n",
    "    MiddleBand: float\n",
    "}\n",
    "\n",
    "\n",
    "type CandleVariant =\n",
    "    | CandleV of CandleData\n",
    "    | TilsonV of TilsonData\n",
    "    | BollingerV of BollingerData\n"
   ]
  },
  {
   "cell_type": "code",
   "execution_count": 105,
   "metadata": {
    "dotnet_interactive": {
     "language": "fsharp"
    },
    "polyglot_notebook": {
     "kernelName": "fsharp"
    },
    "vscode": {
     "languageId": "polyglot-notebook"
    }
   },
   "outputs": [],
   "source": [
    "open System\n",
    "open System.Globalization\n",
    "\n",
    "let parseBollinger filePath: BollingerData[] =\n",
    "    let lines = System.IO.File.ReadAllLines(filePath)\n",
    "    lines\n",
    "    |> Array.skip 1\n",
    "    |> Array.map (fun line ->\n",
    "        let columns = line.Split(',')\n",
    "        let epoch = Int64.Parse(columns.[0])\n",
    "        let date = DateTimeOffset.FromUnixTimeMilliseconds(epoch).DateTime\n",
    "        {\n",
    "            Candle = { Date = date; Open = float columns.[1]; High = float columns.[2]; Low = float columns.[3]; Close = float columns.[4] }\n",
    "            UpperBand = float columns.[5]\n",
    "            LowerBand = float columns.[6]\n",
    "            MiddleBand = float columns.[7]\n",
    "        })\n",
    "\n",
    "\n",
    "let parseTilson filePath: TilsonData[] =\n",
    "    let lines = System.IO.File.ReadAllLines(filePath)\n",
    "    lines\n",
    "    |> Array.skip 1\n",
    "    |> Array.map (fun line ->\n",
    "        let columns = line.Split(',')\n",
    "        let epoch = Int64.Parse(columns.[0])\n",
    "        let date = DateTimeOffset.FromUnixTimeMilliseconds(epoch).DateTime\n",
    "        {\n",
    "            Candle = { Date = date; Open = float columns.[1]; High = float columns.[2]; Low = float columns.[3]; Close = float columns.[4] }\n",
    "            TilsonValue = float columns.[5]\n",
    "        })\n"
   ]
  },
  {
   "cell_type": "code",
   "execution_count": 106,
   "metadata": {
    "dotnet_interactive": {
     "language": "fsharp"
    },
    "polyglot_notebook": {
     "kernelName": "fsharp"
    },
    "vscode": {
     "languageId": "polyglot-notebook"
    }
   },
   "outputs": [],
   "source": [
    "let extractCandleData (variant: CandleVariant) = \n",
    "    match variant with\n",
    "        | CandleV c -> c\n",
    "        | TilsonV t -> t.Candle\n",
    "        | BollingerV b -> b.Candle\n",
    "\n",
    "let getCandleStickTrace (records: CandleVariant[]) : Trace =\n",
    "    Candlestick(\n",
    "        x = (records |> Array.map (fun r -> (extractCandleData r).Date.ToString(\"yyyy-MM-dd HH:mm:ss\"))),\n",
    "        ``open`` = (records |> Array.map (fun r -> (extractCandleData r).Open)),\n",
    "        high = (records |> Array.map (fun r -> (extractCandleData r).High)),\n",
    "        low = (records |> Array.map (fun r -> (extractCandleData r).Low)),\n",
    "        close = (records |> Array.map (fun r -> (extractCandleData r).Close)),\n",
    "        name = \"Candlestick\"\n",
    "    )"
   ]
  },
  {
   "cell_type": "code",
   "execution_count": 107,
   "metadata": {
    "dotnet_interactive": {
     "language": "fsharp"
    },
    "polyglot_notebook": {
     "kernelName": "fsharp"
    },
    "vscode": {
     "languageId": "polyglot-notebook"
    }
   },
   "outputs": [],
   "source": [
    "let getBollingerUpperLine (records: BollingerData[]) = \n",
    "    Scatter(\n",
    "        x = (records |> Array.map (fun r -> r.Candle.Date.ToString(\"yyyy-MM-dd HH:mm:ss\"))),\n",
    "        y = (records |> Array.map (fun r -> r.UpperBand)),\n",
    "        name = \"bollinger_upper_line\",\n",
    "        yaxis = \"y2\"\n",
    "    )\n",
    "\n",
    "let getBollingerLowerLine (records: BollingerData[]) = \n",
    "    Scatter(\n",
    "        x = (records |> Array.map (fun r -> r.Candle.Date.ToString(\"yyyy-MM-dd HH:mm:ss\"))),\n",
    "        y = (records |> Array.map (fun r -> r.LowerBand)),\n",
    "        name = \"bollinger_lower_line\",\n",
    "        yaxis = \"y2\"\n",
    "    )\n",
    "\n",
    "\n",
    "let getBollingerMiddleLine (records: BollingerData[]) = \n",
    "    Scatter(\n",
    "        x = (records |> Array.map (fun r -> r.Candle.Date.ToString(\"yyyy-MM-dd HH:mm:ss\"))),\n",
    "        y = (records |> Array.map (fun r -> r.MiddleBand)),\n",
    "        name = \"bollinger_middle_line\",\n",
    "        yaxis = \"y2\"\n",
    "    )"
   ]
  },
  {
   "cell_type": "code",
   "execution_count": 108,
   "metadata": {
    "dotnet_interactive": {
     "language": "fsharp"
    },
    "polyglot_notebook": {
     "kernelName": "fsharp"
    },
    "vscode": {
     "languageId": "polyglot-notebook"
    }
   },
   "outputs": [],
   "source": [
    "let getTilsonLine (records: TilsonData[]) =\n",
    "    Scatter(\n",
    "        x = (records |> Array.map (fun r -> r.Candle.Date.ToString(\"yyyy-MM-dd HH:mm:ss\"))),\n",
    "        y = (records |> Array.map (fun r -> r.TilsonValue)),\n",
    "        name = \"tilson_line\",\n",
    "        yaxis = \"y2\"\n",
    "    )"
   ]
  },
  {
   "cell_type": "code",
   "execution_count": 109,
   "metadata": {
    "dotnet_interactive": {
     "language": "fsharp"
    },
    "polyglot_notebook": {
     "kernelName": "fsharp"
    },
    "vscode": {
     "languageId": "polyglot-notebook"
    }
   },
   "outputs": [],
   "source": [
    "\n",
    "// Define file paths\n",
    "let bollingerFile = Environment.CurrentDirectory + \"/bollinger.csv\"\n",
    "let tilsonFile = Environment.CurrentDirectory + \"/tilson.csv\"\n",
    "\n",
    "// Read and parse the records\n",
    "let bollingerRecords = parseBollinger bollingerFile\n",
    "let tilsonRecords = parseTilson tilsonFile"
   ]
  },
  {
   "cell_type": "code",
   "execution_count": 110,
   "metadata": {
    "dotnet_interactive": {
     "language": "fsharp"
    },
    "polyglot_notebook": {
     "kernelName": "fsharp"
    },
    "vscode": {
     "languageId": "polyglot-notebook"
    }
   },
   "outputs": [],
   "source": [
    "let traces = ResizeArray<Trace>()\n",
    "\n",
    "let candleStickData = getCandleStickTrace (bollingerRecords |> Array.map (fun r -> BollingerV r))\n",
    "traces.Add(candleStickData)\n",
    "\n",
    "traces.Add(getTilsonLine tilsonRecords)\n",
    "\n",
    "let bollingerUpperLine = getBollingerUpperLine bollingerRecords\n",
    "let bollingerLowerLine = getBollingerLowerLine bollingerRecords\n",
    "let bollingerMiddleLine = getBollingerMiddleLine bollingerRecords\n",
    "\n",
    "traces.Add(bollingerUpperLine)\n",
    "traces.Add(bollingerLowerLine)\n",
    "traces.Add(bollingerMiddleLine)\n",
    "\n",
    "let chart = Chart.Plot(traces)\n",
    "chart.WithLayout(Layout.Layout(\n",
    "    title = \"Indicators\",\n",
    "    yaxis = Yaxis(title = \"Price\"),\n",
    "    yaxis2 = Yaxis(title = \"ChannelTilson\", overlaying = \"y\", side = \"right\")\n",
    "))\n",
    "\n",
    "chart.Show()"
   ]
  }
 ],
 "metadata": {
  "language_info": {
   "name": "csharp"
  }
 },
 "nbformat": 4,
 "nbformat_minor": 2
}
