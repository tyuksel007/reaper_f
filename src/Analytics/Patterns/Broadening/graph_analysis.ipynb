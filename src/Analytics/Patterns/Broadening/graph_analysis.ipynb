{
 "cells": [
  {
   "cell_type": "code",
   "execution_count": 1,
   "metadata": {
    "dotnet_interactive": {
     "language": "fsharp"
    },
    "polyglot_notebook": {
     "kernelName": "fsharp"
    },
    "vscode": {
     "languageId": "polyglot-notebook"
    }
   },
   "outputs": [],
   "source": [
    "type SignalType = \n",
    "    | Buy\n",
    "    | Sell\n",
    "    | SignalUndefined\n",
    "\n",
    "type PivotType = \n",
    "    | High\n",
    "    | Low\n",
    "    | PivotUndefined\n",
    "\n",
    "type StatCandle = {\n",
    "    Open: decimal\n",
    "    High: decimal\n",
    "    Low: decimal\n",
    "    Close: decimal\n",
    "    Time: string\n",
    "    Volume: decimal\n",
    "    ChannelLow: decimal\n",
    "    ChannelHigh: decimal\n",
    "    PivotType: PivotType\n",
    "    PivotPrice: decimal\n",
    "    BreakoutSignal: SignalType\n",
    "    TradeCapital: decimal\n",
    "}"
   ]
  },
  {
   "cell_type": "code",
   "execution_count": 9,
   "metadata": {
    "dotnet_interactive": {
     "language": "fsharp"
    },
    "polyglot_notebook": {
     "kernelName": "fsharp"
    },
    "vscode": {
     "languageId": "polyglot-notebook"
    }
   },
   "outputs": [
    {
     "data": {
      "text/html": [
       "<div><div></div><div></div><div><strong>Installed Packages</strong><ul><li><span>Dapper, 2.1.28</span></li><li><span>MathNet.Numerics, 5.0.0</span></li><li><span>System.Data.SQLite, 1.0.118</span></li></ul></div></div>"
      ]
     },
     "metadata": {},
     "output_type": "display_data"
    },
    {
     "ename": "Error",
     "evalue": "input.fsx (11,1)-(11,4) parse error This is not a valid identifier",
     "output_type": "error",
     "traceback": [
      "input.fsx (11,1)-(11,4) parse error This is not a valid identifier"
     ]
    }
   ],
   "source": [
    "#r \"nuget: Dapper, 2.1.28\"\n",
    "#r \"nuget: MathNet.Numerics, 5.0.0\"\n",
    "#r \"nuget: System.Data.SQLite, 1.0.118\"\n",
    "open System.Data.SQLite\n",
    "open Dapper\n",
    "\n",
    "let loadData () =\n",
    "    let databaseFilename = \"analytics.sqlite\"\n",
    "    let connectionStringFile = sprintf \"Data Source=%s;Version=3;\" databaseFilename  \n",
    "\n",
    "    use connection = new SQLiteConnection(connectionStringFile)\n",
    "    connection.Open()\n",
    "\n",
    "    let sql = \"SELECT * FROM symbols\"\n"
   ]
  },
  {
   "cell_type": "code",
   "execution_count": 3,
   "metadata": {
    "dotnet_interactive": {
     "language": "fsharp"
    },
    "polyglot_notebook": {
     "kernelName": "fsharp"
    },
    "vscode": {
     "languageId": "polyglot-notebook"
    }
   },
   "outputs": [
    {
     "data": {
      "text/html": [
       "<div><div></div><div></div><div><strong>Installed Packages</strong><ul><li><span>XPlot.Plotly, 4.0.6</span></li></ul></div></div>"
      ]
     },
     "metadata": {},
     "output_type": "display_data"
    }
   ],
   "source": [
    "#r \"nuget: XPlot.Plotly, 4.0.6\"\n",
    "\n",
    "open XPlot.Plotly\n",
    "open System\n",
    "\n",
    "let projectPath = \"c:/users/tyueksel/desktop/f#/reaper_f/src/analytics\"\n",
    "\n",
    "let targetFile = projectPath + \"/patterns/price-data/broadening_bottoms.csv\"\n",
    "\n",
    "let candles = parseCsv targetFile\n"
   ]
  },
  {
   "cell_type": "code",
   "execution_count": 4,
   "metadata": {
    "dotnet_interactive": {
     "language": "fsharp"
    },
    "polyglot_notebook": {
     "kernelName": "fsharp"
    },
    "vscode": {
     "languageId": "polyglot-notebook"
    }
   },
   "outputs": [],
   "source": [
    "let pivotScatter(candles: StatCandle array) (pivotType: PivotType) : Trace = \n",
    "    let pivots = \n",
    "        candles\n",
    "        |> Array.filter (fun candle -> candle.PivotType = pivotType)\n",
    "\n",
    "    let times = \n",
    "        pivots\n",
    "        |> Array.map (fun candle -> candle.Time)\n",
    "\n",
    "    let prices = \n",
    "        pivots\n",
    "        |> Array.map (fun candle -> candle.PivotPrice)\n",
    "\n",
    "    Scatter(x = times, y = prices, mode = \"markers\", name = $\"Pivot {pivotType}\")\n",
    "\n",
    "    "
   ]
  },
  {
   "cell_type": "code",
   "execution_count": 5,
   "metadata": {
    "dotnet_interactive": {
     "language": "fsharp"
    },
    "polyglot_notebook": {
     "kernelName": "fsharp"
    },
    "vscode": {
     "languageId": "polyglot-notebook"
    }
   },
   "outputs": [],
   "source": [
    "let candleStickTrace (candles: StatCandle array) : Trace =\n",
    "    Candlestick( \n",
    "        x = (candles |> Array.map (fun r -> r.Time)), \n",
    "        ``open`` = (candles |> Array.map (fun r -> r.Open)), \n",
    "        high = (candles |> Array.map (fun r -> r.High)), \n",
    "        low = (candles |> Array.map (fun r -> r.Low)), \n",
    "        close = (candles |> Array.map (fun r -> r.Close)), \n",
    "        name = \"Candlestick\")\n",
    "\n"
   ]
  },
  {
   "cell_type": "code",
   "execution_count": 6,
   "metadata": {
    "dotnet_interactive": {
     "language": "fsharp"
    },
    "polyglot_notebook": {
     "kernelName": "fsharp"
    },
    "vscode": {
     "languageId": "polyglot-notebook"
    }
   },
   "outputs": [],
   "source": [
    "let channelLowTrace (candles: StatCandle array) : Trace =\n",
    "    let channelLow = Scatter(x = (candles |> Array.map (fun r -> r.Time)),\n",
    "        y = (candles |> Array.map (fun r -> r.ChannelLow)),\n",
    "        mode = \"lines\",\n",
    "        name = \"Channel Low\")\n",
    "    channelLow\n",
    "\n",
    "\n",
    "let channelHighTrace (candles: StatCandle array) : Trace =\n",
    "    let channelHigh = Scatter(x = (candles |> Array.map (fun r -> r.Time)),\n",
    "        y = (candles |> Array.map (fun r -> r.ChannelHigh)),\n",
    "        mode = \"lines\",\n",
    "        name = \"Channel High\")\n",
    "    channelHigh"
   ]
  },
  {
   "cell_type": "code",
   "execution_count": 7,
   "metadata": {
    "dotnet_interactive": {
     "language": "fsharp"
    },
    "polyglot_notebook": {
     "kernelName": "fsharp"
    },
    "vscode": {
     "languageId": "polyglot-notebook"
    }
   },
   "outputs": [],
   "source": [
    "let breakoutActionTrace (candles: StatCandle array) : Trace =\n",
    "    let breakoutActions = \n",
    "        candles\n",
    "        |> Array.filter (fun candle -> candle.BreakoutSignal <> SignalUndefined)\n",
    "\n",
    "    let times = \n",
    "        breakoutActions\n",
    "        |> Array.map (fun candle -> candle.Time)\n",
    "\n",
    "    let prices = \n",
    "        breakoutActions\n",
    "        |> Array.map (fun candle -> candle.Close)\n",
    "\n",
    "    Scatter(x = times, y = prices, mode = \"markers\", name = \"Breakout Actions\")"
   ]
  },
  {
   "cell_type": "code",
   "execution_count": 8,
   "metadata": {
    "dotnet_interactive": {
     "language": "fsharp"
    },
    "polyglot_notebook": {
     "kernelName": "fsharp"
    },
    "vscode": {
     "languageId": "polyglot-notebook"
    }
   },
   "outputs": [],
   "source": [
    "let candleStickTrace = candleStickTrace candles\n",
    "let breakoutActionTrace = breakoutActionTrace candles\n",
    "let pivotHighScatters = pivotScatter candles High\n",
    "let pivotLowScatters = pivotScatter candles Low\n",
    "\n",
    "\n",
    "let candleChunks = \n",
    "    candles\n",
    "    |> Array.splitInto 3\n",
    "\n",
    "\n",
    "let channelLowTraces = \n",
    "    candleChunks\n",
    "    |> Array.map (fun chunk -> channelLowTrace chunk)\n",
    "\n",
    "let channelHighTraces = \n",
    "    candleChunks\n",
    "    |> Array.map (fun chunk -> channelHighTrace chunk)\n",
    "\n",
    "let chart = Chart.Plot(\n",
    "    Array.concat [| \n",
    "        [|\n",
    "            candleStickTrace\n",
    "            breakoutActionTrace\n",
    "            pivotHighScatters\n",
    "            pivotLowScatters \n",
    "        |]\n",
    "        channelLowTraces\n",
    "        channelHighTraces\n",
    "    |])\n",
    "\n",
    "chart.WithLayout(Layout(title = \"Broadening Bottoms\",\n",
    "    xaxis = Xaxis(title = \"Time\"),\n",
    "    yaxis = Yaxis(title = \"Price\")))\n",
    "\n",
    "chart.Show()\n"
   ]
  }
 ],
 "metadata": {
  "language_info": {
   "name": "csharp"
  }
 },
 "nbformat": 4,
 "nbformat_minor": 2
}
